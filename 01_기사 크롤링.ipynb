{
 "cells": [
  {
   "cell_type": "markdown",
   "id": "955502bc-c9d8-4d06-bf4e-ba9713660749",
   "metadata": {},
   "source": [
    "# 네이버 보이스피싱 관련 기사 크롤링"
   ]
  },
  {
   "cell_type": "code",
   "execution_count": null,
   "id": "2a511843-051c-4c85-8c0f-05de5d8277f5",
   "metadata": {},
   "outputs": [],
   "source": [
    "from bs4 import BeautifulSoup\n",
    "from datetime import datetime\n",
    "import requests\n",
    "import pandas as pd\n",
    "import re\n",
    "\n",
    "title_text=[]\n",
    "date_text=[]                                                                #각 크롤링 결과 저장하기 위한 리스트 선언 \n",
    "result={}\n",
    "\n",
    "                                                    \n",
    "RESULT_PATH ='./'                                                            #결과 저장할 경로\n",
    "\n",
    "\n",
    "                                                                             #날짜 정제화 함수\n",
    "def date_cleansing(test):\n",
    "    try:\n",
    "        pattern = '\\d+.(\\d+).(\\d+).'  \n",
    "        r = re.compile(pattern)\n",
    "        match = r.search(test).group(0)  \n",
    "        date_text.append(match)\n",
    "        \n",
    "    except AttributeError: \n",
    "        pattern = '\\w* (\\d\\w*)'     \n",
    "        \n",
    "        r = re.compile(pattern)\n",
    "        match = r.search(test).group(1)\n",
    "        #print(match)\n",
    "        date_text.append(match)\n",
    "\n",
    "\n",
    "def crawler(maxpage,query,sort,s_date,e_date):\n",
    "\n",
    "    s_from = s_date.replace(\".\",\"\")\n",
    "    e_to = e_date.replace(\".\",\"\")\n",
    "    page = 1  \n",
    "    maxpage_t =(int(maxpage)-1)*10+1   \n",
    "    \n",
    "    while page <= maxpage_t:\n",
    "        url = \"https://search.naver.com/search.naver?where=news&query=\" + query + \"&sort=\"+sort+\"&ds=\" + s_date + \"&de=\" + e_date + \"&nso=so%3Ar%2Cp%3Afrom\" + s_from + \"to\" + e_to + \"%2Ca%3A&start=\" + str(page)\n",
    "        \n",
    "        response = requests.get(url)\n",
    "        html = response.text\n",
    "        soup = BeautifulSoup(html, 'html.parser')\n",
    "        atags = soup.select('.news_tit')\n",
    "        for atag in atags:\n",
    "            title_text.append(atag.text)                                           #제목\n",
    "            \n",
    "        \n",
    "                                                                                   #날짜 추출 \n",
    "        date_lists = soup.select('.info_group > span.info')\n",
    "        for date_list in date_lists:\n",
    "            if date_list.text.find(\"면\") == -1:\n",
    "                date_text.append(date_list.text)\n",
    "        \n",
    "\n",
    "        result= {\"date\" : date_text , \"title\":title_text}  \n",
    "        print(page)\n",
    "        \n",
    "        df = pd.DataFrame(result) \n",
    "        page += 10\n",
    "    \n",
    "    \n",
    "                                                                                 # 새로 만들 파일이름 지정\n",
    "    outputFileName = '보이스피싱().xlsx'\n",
    "    df.to_excel(RESULT_PATH+outputFileName,sheet_name='sheet1')\n",
    "    \n",
    "    \n",
    "\n",
    "def main():\n",
    "    \n",
    "    maxpage = 400\n",
    "    query = '보이스피싱' \n",
    "    sort = '0'                                                                       #관련도순=0  최신순=1  오래된순=2\n",
    "    s_date = input(\"시작날짜 입력(2019.01.04):\") \n",
    "    e_date = input(\"끝날짜 입력(2019.01.05):\")   \n",
    "    \n",
    "    crawler(maxpage,query,sort,s_date,e_date) \n",
    "    \n",
    "main()"
   ]
  },
  {
   "cell_type": "code",
   "execution_count": 11,
   "id": "330161ef-a70a-4fc7-9462-c4b1ed65fed4",
   "metadata": {
    "tags": []
   },
   "outputs": [],
   "source": [
    "df = pd.DataFrame(result)"
   ]
  },
  {
   "cell_type": "code",
   "execution_count": null,
   "id": "9f6ffd72-7ddb-4190-b8e2-f03aef8487d2",
   "metadata": {},
   "outputs": [],
   "source": []
  }
 ],
 "metadata": {
  "kernelspec": {
   "display_name": "Python 3 (ipykernel)",
   "language": "python",
   "name": "python3"
  },
  "language_info": {
   "codemirror_mode": {
    "name": "ipython",
    "version": 3
   },
   "file_extension": ".py",
   "mimetype": "text/x-python",
   "name": "python",
   "nbconvert_exporter": "python",
   "pygments_lexer": "ipython3",
   "version": "3.9.13"
  }
 },
 "nbformat": 4,
 "nbformat_minor": 5
}
